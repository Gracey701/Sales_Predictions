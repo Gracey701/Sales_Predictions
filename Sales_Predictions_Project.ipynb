{
  "nbformat": 4,
  "nbformat_minor": 0,
  "metadata": {
    "colab": {
      "provenance": [],
      "mount_file_id": "1Sb0pfb9VYWvsuR0iIYdQNGuhK0IKubUp",
      "authorship_tag": "ABX9TyPnAdO/WfW+hNoVrLILD3Uy",
      "include_colab_link": true
    },
    "kernelspec": {
      "name": "python3",
      "display_name": "Python 3"
    },
    "language_info": {
      "name": "python"
    }
  },
  "cells": [
    {
      "cell_type": "markdown",
      "metadata": {
        "id": "view-in-github",
        "colab_type": "text"
      },
      "source": [
        "<a href=\"https://colab.research.google.com/github/Gracey701/Sales_Predictions/blob/main/Sales_Predictions_Project.ipynb\" target=\"_parent\"><img src=\"https://colab.research.google.com/assets/colab-badge.svg\" alt=\"Open In Colab\"/></a>"
      ]
    },
    {
      "cell_type": "markdown",
      "source": [
        "# Project 1 - Part 1\n"
      ],
      "metadata": {
        "id": "3l7AYtXGkbUe"
      }
    },
    {
      "cell_type": "markdown",
      "source": [
        "  - Grace Seo"
      ],
      "metadata": {
        "id": "tcxaE5t5kkRA"
      }
    },
    {
      "cell_type": "markdown",
      "source": [
        "## Loading Data"
      ],
      "metadata": {
        "id": "wHvnkOJPknQA"
      }
    },
    {
      "cell_type": "code",
      "source": [
        "import pandas as pd"
      ],
      "metadata": {
        "id": "1-2EIsNkltyi"
      },
      "execution_count": 64,
      "outputs": []
    },
    {
      "cell_type": "code",
      "source": [
        "filename = '/content/sales_predictions.csv'"
      ],
      "metadata": {
        "id": "8g__ncIGmGyQ"
      },
      "execution_count": 65,
      "outputs": []
    },
    {
      "cell_type": "code",
      "source": [
        "# Set display options\n",
        "# Display all columns\n",
        "pd.set_option('display.max_column', None)\n",
        "# Display full width of field\n",
        "pd.set_option('display.max_colwidth', None)\n",
        "# Display table across entire available view\n",
        "pd.set_option('display.width', -1)\n",
        "# Display all rows\n",
        "pd.set_option('display.max_rows', None)"
      ],
      "metadata": {
        "id": "5qRBolPx5XNs"
      },
      "execution_count": 66,
      "outputs": []
    },
    {
      "cell_type": "code",
      "source": [
        "sales_predictions = pd.read_csv(filename)\n",
        "sales_predictions.info()\n",
        "sales_predictions.head()"
      ],
      "metadata": {
        "colab": {
          "base_uri": "https://localhost:8080/",
          "height": 687
        },
        "id": "Xz-W_7PsnGsw",
        "outputId": "b9116d53-0e4c-46ad-acf6-b0ccc03f624f"
      },
      "execution_count": 67,
      "outputs": [
        {
          "output_type": "stream",
          "name": "stdout",
          "text": [
            "<class 'pandas.core.frame.DataFrame'>\n",
            "RangeIndex: 8523 entries, 0 to 8522\n",
            "Data columns (total 12 columns):\n",
            " #   Column                     Non-Null Count  Dtype  \n",
            "---  ------                     --------------  -----  \n",
            " 0   Item_Identifier            8523 non-null   object \n",
            " 1   Item_Weight                7060 non-null   float64\n",
            " 2   Item_Fat_Content           8523 non-null   object \n",
            " 3   Item_Visibility            8523 non-null   float64\n",
            " 4   Item_Type                  8523 non-null   object \n",
            " 5   Item_MRP                   8523 non-null   float64\n",
            " 6   Outlet_Identifier          8523 non-null   object \n",
            " 7   Outlet_Establishment_Year  8523 non-null   int64  \n",
            " 8   Outlet_Size                6113 non-null   object \n",
            " 9   Outlet_Location_Type       8523 non-null   object \n",
            " 10  Outlet_Type                8523 non-null   object \n",
            " 11  Item_Outlet_Sales          8523 non-null   float64\n",
            "dtypes: float64(4), int64(1), object(7)\n",
            "memory usage: 799.2+ KB\n"
          ]
        },
        {
          "output_type": "execute_result",
          "data": {
            "text/plain": [
              "  Item_Identifier  \\\n",
              "0           FDA15   \n",
              "1           DRC01   \n",
              "2           FDN15   \n",
              "3           FDX07   \n",
              "4           NCD19   \n",
              "\n",
              "   Item_Weight  \\\n",
              "0         9.30   \n",
              "1         5.92   \n",
              "2        17.50   \n",
              "3        19.20   \n",
              "4         8.93   \n",
              "\n",
              "  Item_Fat_Content  \\\n",
              "0          Low Fat   \n",
              "1          Regular   \n",
              "2          Low Fat   \n",
              "3          Regular   \n",
              "4          Low Fat   \n",
              "\n",
              "   Item_Visibility  \\\n",
              "0         0.016047   \n",
              "1         0.019278   \n",
              "2         0.016760   \n",
              "3         0.000000   \n",
              "4         0.000000   \n",
              "\n",
              "               Item_Type  \\\n",
              "0                  Dairy   \n",
              "1            Soft Drinks   \n",
              "2                   Meat   \n",
              "3  Fruits and Vegetables   \n",
              "4              Household   \n",
              "\n",
              "   Item_MRP  \\\n",
              "0  249.8092   \n",
              "1   48.2692   \n",
              "2  141.6180   \n",
              "3  182.0950   \n",
              "4   53.8614   \n",
              "\n",
              "  Outlet_Identifier  \\\n",
              "0            OUT049   \n",
              "1            OUT018   \n",
              "2            OUT049   \n",
              "3            OUT010   \n",
              "4            OUT013   \n",
              "\n",
              "   Outlet_Establishment_Year  \\\n",
              "0                       1999   \n",
              "1                       2009   \n",
              "2                       1999   \n",
              "3                       1998   \n",
              "4                       1987   \n",
              "\n",
              "  Outlet_Size  \\\n",
              "0      Medium   \n",
              "1      Medium   \n",
              "2      Medium   \n",
              "3         NaN   \n",
              "4        High   \n",
              "\n",
              "  Outlet_Location_Type  \\\n",
              "0               Tier 1   \n",
              "1               Tier 3   \n",
              "2               Tier 1   \n",
              "3               Tier 3   \n",
              "4               Tier 3   \n",
              "\n",
              "         Outlet_Type  \\\n",
              "0  Supermarket Type1   \n",
              "1  Supermarket Type2   \n",
              "2  Supermarket Type1   \n",
              "3      Grocery Store   \n",
              "4  Supermarket Type1   \n",
              "\n",
              "   Item_Outlet_Sales  \n",
              "0          3735.1380  \n",
              "1           443.4228  \n",
              "2          2097.2700  \n",
              "3           732.3800  \n",
              "4           994.7052  "
            ],
            "text/html": [
              "\n",
              "  <div id=\"df-3c6afb98-d4eb-4ea9-ad90-ed71e7b3d67e\">\n",
              "    <div class=\"colab-df-container\">\n",
              "      <div>\n",
              "<style scoped>\n",
              "    .dataframe tbody tr th:only-of-type {\n",
              "        vertical-align: middle;\n",
              "    }\n",
              "\n",
              "    .dataframe tbody tr th {\n",
              "        vertical-align: top;\n",
              "    }\n",
              "\n",
              "    .dataframe thead th {\n",
              "        text-align: right;\n",
              "    }\n",
              "</style>\n",
              "<table border=\"1\" class=\"dataframe\">\n",
              "  <thead>\n",
              "    <tr style=\"text-align: right;\">\n",
              "      <th></th>\n",
              "      <th>Item_Identifier</th>\n",
              "      <th>Item_Weight</th>\n",
              "      <th>Item_Fat_Content</th>\n",
              "      <th>Item_Visibility</th>\n",
              "      <th>Item_Type</th>\n",
              "      <th>Item_MRP</th>\n",
              "      <th>Outlet_Identifier</th>\n",
              "      <th>Outlet_Establishment_Year</th>\n",
              "      <th>Outlet_Size</th>\n",
              "      <th>Outlet_Location_Type</th>\n",
              "      <th>Outlet_Type</th>\n",
              "      <th>Item_Outlet_Sales</th>\n",
              "    </tr>\n",
              "  </thead>\n",
              "  <tbody>\n",
              "    <tr>\n",
              "      <th>0</th>\n",
              "      <td>FDA15</td>\n",
              "      <td>9.30</td>\n",
              "      <td>Low Fat</td>\n",
              "      <td>0.016047</td>\n",
              "      <td>Dairy</td>\n",
              "      <td>249.8092</td>\n",
              "      <td>OUT049</td>\n",
              "      <td>1999</td>\n",
              "      <td>Medium</td>\n",
              "      <td>Tier 1</td>\n",
              "      <td>Supermarket Type1</td>\n",
              "      <td>3735.1380</td>\n",
              "    </tr>\n",
              "    <tr>\n",
              "      <th>1</th>\n",
              "      <td>DRC01</td>\n",
              "      <td>5.92</td>\n",
              "      <td>Regular</td>\n",
              "      <td>0.019278</td>\n",
              "      <td>Soft Drinks</td>\n",
              "      <td>48.2692</td>\n",
              "      <td>OUT018</td>\n",
              "      <td>2009</td>\n",
              "      <td>Medium</td>\n",
              "      <td>Tier 3</td>\n",
              "      <td>Supermarket Type2</td>\n",
              "      <td>443.4228</td>\n",
              "    </tr>\n",
              "    <tr>\n",
              "      <th>2</th>\n",
              "      <td>FDN15</td>\n",
              "      <td>17.50</td>\n",
              "      <td>Low Fat</td>\n",
              "      <td>0.016760</td>\n",
              "      <td>Meat</td>\n",
              "      <td>141.6180</td>\n",
              "      <td>OUT049</td>\n",
              "      <td>1999</td>\n",
              "      <td>Medium</td>\n",
              "      <td>Tier 1</td>\n",
              "      <td>Supermarket Type1</td>\n",
              "      <td>2097.2700</td>\n",
              "    </tr>\n",
              "    <tr>\n",
              "      <th>3</th>\n",
              "      <td>FDX07</td>\n",
              "      <td>19.20</td>\n",
              "      <td>Regular</td>\n",
              "      <td>0.000000</td>\n",
              "      <td>Fruits and Vegetables</td>\n",
              "      <td>182.0950</td>\n",
              "      <td>OUT010</td>\n",
              "      <td>1998</td>\n",
              "      <td>NaN</td>\n",
              "      <td>Tier 3</td>\n",
              "      <td>Grocery Store</td>\n",
              "      <td>732.3800</td>\n",
              "    </tr>\n",
              "    <tr>\n",
              "      <th>4</th>\n",
              "      <td>NCD19</td>\n",
              "      <td>8.93</td>\n",
              "      <td>Low Fat</td>\n",
              "      <td>0.000000</td>\n",
              "      <td>Household</td>\n",
              "      <td>53.8614</td>\n",
              "      <td>OUT013</td>\n",
              "      <td>1987</td>\n",
              "      <td>High</td>\n",
              "      <td>Tier 3</td>\n",
              "      <td>Supermarket Type1</td>\n",
              "      <td>994.7052</td>\n",
              "    </tr>\n",
              "  </tbody>\n",
              "</table>\n",
              "</div>\n",
              "      <button class=\"colab-df-convert\" onclick=\"convertToInteractive('df-3c6afb98-d4eb-4ea9-ad90-ed71e7b3d67e')\"\n",
              "              title=\"Convert this dataframe to an interactive table.\"\n",
              "              style=\"display:none;\">\n",
              "        \n",
              "  <svg xmlns=\"http://www.w3.org/2000/svg\" height=\"24px\"viewBox=\"0 0 24 24\"\n",
              "       width=\"24px\">\n",
              "    <path d=\"M0 0h24v24H0V0z\" fill=\"none\"/>\n",
              "    <path d=\"M18.56 5.44l.94 2.06.94-2.06 2.06-.94-2.06-.94-.94-2.06-.94 2.06-2.06.94zm-11 1L8.5 8.5l.94-2.06 2.06-.94-2.06-.94L8.5 2.5l-.94 2.06-2.06.94zm10 10l.94 2.06.94-2.06 2.06-.94-2.06-.94-.94-2.06-.94 2.06-2.06.94z\"/><path d=\"M17.41 7.96l-1.37-1.37c-.4-.4-.92-.59-1.43-.59-.52 0-1.04.2-1.43.59L10.3 9.45l-7.72 7.72c-.78.78-.78 2.05 0 2.83L4 21.41c.39.39.9.59 1.41.59.51 0 1.02-.2 1.41-.59l7.78-7.78 2.81-2.81c.8-.78.8-2.07 0-2.86zM5.41 20L4 18.59l7.72-7.72 1.47 1.35L5.41 20z\"/>\n",
              "  </svg>\n",
              "      </button>\n",
              "      \n",
              "  <style>\n",
              "    .colab-df-container {\n",
              "      display:flex;\n",
              "      flex-wrap:wrap;\n",
              "      gap: 12px;\n",
              "    }\n",
              "\n",
              "    .colab-df-convert {\n",
              "      background-color: #E8F0FE;\n",
              "      border: none;\n",
              "      border-radius: 50%;\n",
              "      cursor: pointer;\n",
              "      display: none;\n",
              "      fill: #1967D2;\n",
              "      height: 32px;\n",
              "      padding: 0 0 0 0;\n",
              "      width: 32px;\n",
              "    }\n",
              "\n",
              "    .colab-df-convert:hover {\n",
              "      background-color: #E2EBFA;\n",
              "      box-shadow: 0px 1px 2px rgba(60, 64, 67, 0.3), 0px 1px 3px 1px rgba(60, 64, 67, 0.15);\n",
              "      fill: #174EA6;\n",
              "    }\n",
              "\n",
              "    [theme=dark] .colab-df-convert {\n",
              "      background-color: #3B4455;\n",
              "      fill: #D2E3FC;\n",
              "    }\n",
              "\n",
              "    [theme=dark] .colab-df-convert:hover {\n",
              "      background-color: #434B5C;\n",
              "      box-shadow: 0px 1px 3px 1px rgba(0, 0, 0, 0.15);\n",
              "      filter: drop-shadow(0px 1px 2px rgba(0, 0, 0, 0.3));\n",
              "      fill: #FFFFFF;\n",
              "    }\n",
              "  </style>\n",
              "\n",
              "      <script>\n",
              "        const buttonEl =\n",
              "          document.querySelector('#df-3c6afb98-d4eb-4ea9-ad90-ed71e7b3d67e button.colab-df-convert');\n",
              "        buttonEl.style.display =\n",
              "          google.colab.kernel.accessAllowed ? 'block' : 'none';\n",
              "\n",
              "        async function convertToInteractive(key) {\n",
              "          const element = document.querySelector('#df-3c6afb98-d4eb-4ea9-ad90-ed71e7b3d67e');\n",
              "          const dataTable =\n",
              "            await google.colab.kernel.invokeFunction('convertToInteractive',\n",
              "                                                     [key], {});\n",
              "          if (!dataTable) return;\n",
              "\n",
              "          const docLinkHtml = 'Like what you see? Visit the ' +\n",
              "            '<a target=\"_blank\" href=https://colab.research.google.com/notebooks/data_table.ipynb>data table notebook</a>'\n",
              "            + ' to learn more about interactive tables.';\n",
              "          element.innerHTML = '';\n",
              "          dataTable['output_type'] = 'display_data';\n",
              "          await google.colab.output.renderOutput(dataTable, element);\n",
              "          const docLink = document.createElement('div');\n",
              "          docLink.innerHTML = docLinkHtml;\n",
              "          element.appendChild(docLink);\n",
              "        }\n",
              "      </script>\n",
              "    </div>\n",
              "  </div>\n",
              "  "
            ]
          },
          "metadata": {},
          "execution_count": 67
        }
      ]
    },
    {
      "cell_type": "markdown",
      "source": [
        "## Data Cleaning"
      ],
      "metadata": {
        "id": "0QwSGrsAlKkj"
      }
    },
    {
      "cell_type": "markdown",
      "source": [
        "How many rows and columns\n",
        "  - Based on the previous info data, there are 8523 rows (entries) and 12 columns"
      ],
      "metadata": {
        "id": "46mOAz3P_4wm"
      }
    },
    {
      "cell_type": "markdown",
      "source": [
        "What are the datatypes of each variable?"
      ],
      "metadata": {
        "id": "OVw5OhGRAD7F"
      }
    },
    {
      "cell_type": "code",
      "source": [
        "sales_predictions.dtypes"
      ],
      "metadata": {
        "id": "DkUGynAR_VSW",
        "outputId": "2602771b-c5f7-4394-eadf-c7833566d0e0",
        "colab": {
          "base_uri": "https://localhost:8080/"
        }
      },
      "execution_count": 68,
      "outputs": [
        {
          "output_type": "execute_result",
          "data": {
            "text/plain": [
              "Item_Identifier               object\n",
              "Item_Weight                  float64\n",
              "Item_Fat_Content              object\n",
              "Item_Visibility              float64\n",
              "Item_Type                     object\n",
              "Item_MRP                     float64\n",
              "Outlet_Identifier             object\n",
              "Outlet_Establishment_Year      int64\n",
              "Outlet_Size                   object\n",
              "Outlet_Location_Type          object\n",
              "Outlet_Type                   object\n",
              "Item_Outlet_Sales            float64\n",
              "dtype: object"
            ]
          },
          "metadata": {},
          "execution_count": 68
        }
      ]
    },
    {
      "cell_type": "markdown",
      "source": [
        "Are there duplicates? If so, drop any duplicates."
      ],
      "metadata": {
        "id": "t3ud5lUtEMOZ"
      }
    },
    {
      "cell_type": "code",
      "source": [
        "sales_predictions.duplicated().sum()"
      ],
      "metadata": {
        "id": "aN1LzmUYHX4G",
        "outputId": "93b886b9-332d-456c-c775-9652a44336af",
        "colab": {
          "base_uri": "https://localhost:8080/"
        }
      },
      "execution_count": 69,
      "outputs": [
        {
          "output_type": "execute_result",
          "data": {
            "text/plain": [
              "0"
            ]
          },
          "metadata": {},
          "execution_count": 69
        }
      ]
    },
    {
      "cell_type": "markdown",
      "source": [
        "Identify missing values"
      ],
      "metadata": {
        "id": "7sSzQJ6NTBjW"
      }
    },
    {
      "cell_type": "code",
      "source": [
        "sales_predictions.isna().sum()"
      ],
      "metadata": {
        "id": "s6X7HrXlOw_W",
        "outputId": "5d175853-e20f-4b2f-ca06-dc13bcd573b1",
        "colab": {
          "base_uri": "https://localhost:8080/"
        }
      },
      "execution_count": 70,
      "outputs": [
        {
          "output_type": "execute_result",
          "data": {
            "text/plain": [
              "Item_Identifier                 0\n",
              "Item_Weight                  1463\n",
              "Item_Fat_Content                0\n",
              "Item_Visibility                 0\n",
              "Item_Type                       0\n",
              "Item_MRP                        0\n",
              "Outlet_Identifier               0\n",
              "Outlet_Establishment_Year       0\n",
              "Outlet_Size                  2410\n",
              "Outlet_Location_Type            0\n",
              "Outlet_Type                     0\n",
              "Item_Outlet_Sales               0\n",
              "dtype: int64"
            ]
          },
          "metadata": {},
          "execution_count": 70
        }
      ]
    },
    {
      "cell_type": "markdown",
      "source": [
        "Decide on how to address the missing values and do it!\n",
        " - As Item_Weight is probably important for its likelihood to be bought this data will be kept in and the missing values will be replaced with the column average as it's a float type."
      ],
      "metadata": {
        "id": "C0mxmYdgTR8y"
      }
    },
    {
      "cell_type": "code",
      "source": [
        "mean_weight = sales_predictions['Item_Weight'].mean()\n",
        "sales_predictions['Item_Weight'].fillna(mean_weight, inplace=True)\n",
        "sales_predictions.isna().sum()"
      ],
      "metadata": {
        "id": "rfsXiRlgvVki",
        "outputId": "f2c3d75e-0738-4737-b70e-f4cb817fd4e9",
        "colab": {
          "base_uri": "https://localhost:8080/"
        }
      },
      "execution_count": 71,
      "outputs": [
        {
          "output_type": "execute_result",
          "data": {
            "text/plain": [
              "Item_Identifier                 0\n",
              "Item_Weight                     0\n",
              "Item_Fat_Content                0\n",
              "Item_Visibility                 0\n",
              "Item_Type                       0\n",
              "Item_MRP                        0\n",
              "Outlet_Identifier               0\n",
              "Outlet_Establishment_Year       0\n",
              "Outlet_Size                  2410\n",
              "Outlet_Location_Type            0\n",
              "Outlet_Type                     0\n",
              "Item_Outlet_Sales               0\n",
              "dtype: int64"
            ]
          },
          "metadata": {},
          "execution_count": 71
        }
      ]
    },
    {
      "cell_type": "code",
      "source": [
        "sales_predictions['Outlet_Size'].value_counts()"
      ],
      "metadata": {
        "id": "kOlFULbmrzDc",
        "outputId": "1420ed67-2d02-4667-8ad1-02a34e32c8b9",
        "colab": {
          "base_uri": "https://localhost:8080/"
        }
      },
      "execution_count": 72,
      "outputs": [
        {
          "output_type": "execute_result",
          "data": {
            "text/plain": [
              "Medium    2793\n",
              "Small     2388\n",
              "High       932\n",
              "Name: Outlet_Size, dtype: int64"
            ]
          },
          "metadata": {},
          "execution_count": 72
        }
      ]
    },
    {
      "cell_type": "markdown",
      "source": [
        " - For the outlet_size missing values, the whole column will be deleted as it seems unnecessary to the task."
      ],
      "metadata": {
        "id": "Xj_C7yNstwXM"
      }
    },
    {
      "cell_type": "code",
      "source": [
        "sales_predictions.drop(columns='Outlet_Size', inplace=True)\n",
        "sales_predictions.isna().sum()"
      ],
      "metadata": {
        "id": "rWIVFI0rz4NH",
        "outputId": "157b041c-6896-4c1b-9dad-6fa20b9b6259",
        "colab": {
          "base_uri": "https://localhost:8080/"
        }
      },
      "execution_count": 73,
      "outputs": [
        {
          "output_type": "execute_result",
          "data": {
            "text/plain": [
              "Item_Identifier              0\n",
              "Item_Weight                  0\n",
              "Item_Fat_Content             0\n",
              "Item_Visibility              0\n",
              "Item_Type                    0\n",
              "Item_MRP                     0\n",
              "Outlet_Identifier            0\n",
              "Outlet_Establishment_Year    0\n",
              "Outlet_Location_Type         0\n",
              "Outlet_Type                  0\n",
              "Item_Outlet_Sales            0\n",
              "dtype: int64"
            ]
          },
          "metadata": {},
          "execution_count": 73
        }
      ]
    },
    {
      "cell_type": "markdown",
      "source": [
        "Find and fix any inconsistent categories of data."
      ],
      "metadata": {
        "id": "Bqz5dSgX1VbG"
      }
    },
    {
      "cell_type": "code",
      "source": [
        "sales_predictions['Item_Fat_Content'].value_counts()"
      ],
      "metadata": {
        "id": "iVc77lPt2Ud0",
        "outputId": "35251c94-40a4-4c1d-efaa-d0019f32618c",
        "colab": {
          "base_uri": "https://localhost:8080/"
        }
      },
      "execution_count": 74,
      "outputs": [
        {
          "output_type": "execute_result",
          "data": {
            "text/plain": [
              "Low Fat    5089\n",
              "Regular    2889\n",
              "LF          316\n",
              "reg         117\n",
              "low fat     112\n",
              "Name: Item_Fat_Content, dtype: int64"
            ]
          },
          "metadata": {},
          "execution_count": 74
        }
      ]
    },
    {
      "cell_type": "code",
      "source": [
        "sales_predictions['Item_Fat_Content'].replace(['reg','low fat', 'LF'],['Regular', 'Low Fat', 'Low Fat'], inplace=True)\n",
        "sales_predictions['Item_Fat_Content'].value_counts()"
      ],
      "metadata": {
        "id": "AveOmwn5-31K",
        "outputId": "6b37bb88-f108-4fe6-fc1f-386795d8124b",
        "colab": {
          "base_uri": "https://localhost:8080/"
        }
      },
      "execution_count": 75,
      "outputs": [
        {
          "output_type": "execute_result",
          "data": {
            "text/plain": [
              "Low Fat    5517\n",
              "Regular    3006\n",
              "Name: Item_Fat_Content, dtype: int64"
            ]
          },
          "metadata": {},
          "execution_count": 75
        }
      ]
    },
    {
      "cell_type": "code",
      "source": [
        "sales_predictions['Item_Type'].value_counts()"
      ],
      "metadata": {
        "id": "MY8hhm4R_L-O",
        "outputId": "d95e26f3-b8cf-408a-f3f4-a481e26743b5",
        "colab": {
          "base_uri": "https://localhost:8080/"
        }
      },
      "execution_count": 76,
      "outputs": [
        {
          "output_type": "execute_result",
          "data": {
            "text/plain": [
              "Fruits and Vegetables    1232\n",
              "Snack Foods              1200\n",
              "Household                 910\n",
              "Frozen Foods              856\n",
              "Dairy                     682\n",
              "Canned                    649\n",
              "Baking Goods              648\n",
              "Health and Hygiene        520\n",
              "Soft Drinks               445\n",
              "Meat                      425\n",
              "Breads                    251\n",
              "Hard Drinks               214\n",
              "Others                    169\n",
              "Starchy Foods             148\n",
              "Breakfast                 110\n",
              "Seafood                    64\n",
              "Name: Item_Type, dtype: int64"
            ]
          },
          "metadata": {},
          "execution_count": 76
        }
      ]
    },
    {
      "cell_type": "code",
      "source": [
        "sales_predictions['Outlet_Location_Type'].value_counts()"
      ],
      "metadata": {
        "id": "kki_u4gS_5l9",
        "outputId": "bf682f3f-3305-4c53-92eb-304e502eb0ba",
        "colab": {
          "base_uri": "https://localhost:8080/"
        }
      },
      "execution_count": 77,
      "outputs": [
        {
          "output_type": "execute_result",
          "data": {
            "text/plain": [
              "Tier 3    3350\n",
              "Tier 2    2785\n",
              "Tier 1    2388\n",
              "Name: Outlet_Location_Type, dtype: int64"
            ]
          },
          "metadata": {},
          "execution_count": 77
        }
      ]
    },
    {
      "cell_type": "code",
      "source": [
        "sales_predictions['Outlet_Type'].value_counts()"
      ],
      "metadata": {
        "id": "yMqgbJeAAAFW",
        "outputId": "7e5d3984-787f-4858-fe6d-5e84cf1eebaf",
        "colab": {
          "base_uri": "https://localhost:8080/"
        }
      },
      "execution_count": 78,
      "outputs": [
        {
          "output_type": "execute_result",
          "data": {
            "text/plain": [
              "Supermarket Type1    5577\n",
              "Grocery Store        1083\n",
              "Supermarket Type3     935\n",
              "Supermarket Type2     928\n",
              "Name: Outlet_Type, dtype: int64"
            ]
          },
          "metadata": {},
          "execution_count": 78
        }
      ]
    },
    {
      "cell_type": "markdown",
      "source": [
        "- Only Item_Fat_Content had inconsistent categorical data, which has been resolved."
      ],
      "metadata": {
        "id": "hRIml4CWADct"
      }
    },
    {
      "cell_type": "markdown",
      "source": [
        "Obtain the summary statistices of each (min, max, mean) for numerical **columns**"
      ],
      "metadata": {
        "id": "-GYtao-8AY1k"
      }
    },
    {
      "cell_type": "code",
      "source": [
        "sales_predictions.head()"
      ],
      "metadata": {
        "id": "Ymt4Zlb0BAT0",
        "outputId": "bbbf44e6-9718-4fef-c316-77d2186a8a7e",
        "colab": {
          "base_uri": "https://localhost:8080/",
          "height": 357
        }
      },
      "execution_count": 79,
      "outputs": [
        {
          "output_type": "execute_result",
          "data": {
            "text/plain": [
              "  Item_Identifier  \\\n",
              "0           FDA15   \n",
              "1           DRC01   \n",
              "2           FDN15   \n",
              "3           FDX07   \n",
              "4           NCD19   \n",
              "\n",
              "   Item_Weight  \\\n",
              "0         9.30   \n",
              "1         5.92   \n",
              "2        17.50   \n",
              "3        19.20   \n",
              "4         8.93   \n",
              "\n",
              "  Item_Fat_Content  \\\n",
              "0          Low Fat   \n",
              "1          Regular   \n",
              "2          Low Fat   \n",
              "3          Regular   \n",
              "4          Low Fat   \n",
              "\n",
              "   Item_Visibility  \\\n",
              "0         0.016047   \n",
              "1         0.019278   \n",
              "2         0.016760   \n",
              "3         0.000000   \n",
              "4         0.000000   \n",
              "\n",
              "               Item_Type  \\\n",
              "0                  Dairy   \n",
              "1            Soft Drinks   \n",
              "2                   Meat   \n",
              "3  Fruits and Vegetables   \n",
              "4              Household   \n",
              "\n",
              "   Item_MRP  \\\n",
              "0  249.8092   \n",
              "1   48.2692   \n",
              "2  141.6180   \n",
              "3  182.0950   \n",
              "4   53.8614   \n",
              "\n",
              "  Outlet_Identifier  \\\n",
              "0            OUT049   \n",
              "1            OUT018   \n",
              "2            OUT049   \n",
              "3            OUT010   \n",
              "4            OUT013   \n",
              "\n",
              "   Outlet_Establishment_Year  \\\n",
              "0                       1999   \n",
              "1                       2009   \n",
              "2                       1999   \n",
              "3                       1998   \n",
              "4                       1987   \n",
              "\n",
              "  Outlet_Location_Type  \\\n",
              "0               Tier 1   \n",
              "1               Tier 3   \n",
              "2               Tier 1   \n",
              "3               Tier 3   \n",
              "4               Tier 3   \n",
              "\n",
              "         Outlet_Type  \\\n",
              "0  Supermarket Type1   \n",
              "1  Supermarket Type2   \n",
              "2  Supermarket Type1   \n",
              "3      Grocery Store   \n",
              "4  Supermarket Type1   \n",
              "\n",
              "   Item_Outlet_Sales  \n",
              "0          3735.1380  \n",
              "1           443.4228  \n",
              "2          2097.2700  \n",
              "3           732.3800  \n",
              "4           994.7052  "
            ],
            "text/html": [
              "\n",
              "  <div id=\"df-f366bd84-a5f3-43ff-bd6c-d9302335a933\">\n",
              "    <div class=\"colab-df-container\">\n",
              "      <div>\n",
              "<style scoped>\n",
              "    .dataframe tbody tr th:only-of-type {\n",
              "        vertical-align: middle;\n",
              "    }\n",
              "\n",
              "    .dataframe tbody tr th {\n",
              "        vertical-align: top;\n",
              "    }\n",
              "\n",
              "    .dataframe thead th {\n",
              "        text-align: right;\n",
              "    }\n",
              "</style>\n",
              "<table border=\"1\" class=\"dataframe\">\n",
              "  <thead>\n",
              "    <tr style=\"text-align: right;\">\n",
              "      <th></th>\n",
              "      <th>Item_Identifier</th>\n",
              "      <th>Item_Weight</th>\n",
              "      <th>Item_Fat_Content</th>\n",
              "      <th>Item_Visibility</th>\n",
              "      <th>Item_Type</th>\n",
              "      <th>Item_MRP</th>\n",
              "      <th>Outlet_Identifier</th>\n",
              "      <th>Outlet_Establishment_Year</th>\n",
              "      <th>Outlet_Location_Type</th>\n",
              "      <th>Outlet_Type</th>\n",
              "      <th>Item_Outlet_Sales</th>\n",
              "    </tr>\n",
              "  </thead>\n",
              "  <tbody>\n",
              "    <tr>\n",
              "      <th>0</th>\n",
              "      <td>FDA15</td>\n",
              "      <td>9.30</td>\n",
              "      <td>Low Fat</td>\n",
              "      <td>0.016047</td>\n",
              "      <td>Dairy</td>\n",
              "      <td>249.8092</td>\n",
              "      <td>OUT049</td>\n",
              "      <td>1999</td>\n",
              "      <td>Tier 1</td>\n",
              "      <td>Supermarket Type1</td>\n",
              "      <td>3735.1380</td>\n",
              "    </tr>\n",
              "    <tr>\n",
              "      <th>1</th>\n",
              "      <td>DRC01</td>\n",
              "      <td>5.92</td>\n",
              "      <td>Regular</td>\n",
              "      <td>0.019278</td>\n",
              "      <td>Soft Drinks</td>\n",
              "      <td>48.2692</td>\n",
              "      <td>OUT018</td>\n",
              "      <td>2009</td>\n",
              "      <td>Tier 3</td>\n",
              "      <td>Supermarket Type2</td>\n",
              "      <td>443.4228</td>\n",
              "    </tr>\n",
              "    <tr>\n",
              "      <th>2</th>\n",
              "      <td>FDN15</td>\n",
              "      <td>17.50</td>\n",
              "      <td>Low Fat</td>\n",
              "      <td>0.016760</td>\n",
              "      <td>Meat</td>\n",
              "      <td>141.6180</td>\n",
              "      <td>OUT049</td>\n",
              "      <td>1999</td>\n",
              "      <td>Tier 1</td>\n",
              "      <td>Supermarket Type1</td>\n",
              "      <td>2097.2700</td>\n",
              "    </tr>\n",
              "    <tr>\n",
              "      <th>3</th>\n",
              "      <td>FDX07</td>\n",
              "      <td>19.20</td>\n",
              "      <td>Regular</td>\n",
              "      <td>0.000000</td>\n",
              "      <td>Fruits and Vegetables</td>\n",
              "      <td>182.0950</td>\n",
              "      <td>OUT010</td>\n",
              "      <td>1998</td>\n",
              "      <td>Tier 3</td>\n",
              "      <td>Grocery Store</td>\n",
              "      <td>732.3800</td>\n",
              "    </tr>\n",
              "    <tr>\n",
              "      <th>4</th>\n",
              "      <td>NCD19</td>\n",
              "      <td>8.93</td>\n",
              "      <td>Low Fat</td>\n",
              "      <td>0.000000</td>\n",
              "      <td>Household</td>\n",
              "      <td>53.8614</td>\n",
              "      <td>OUT013</td>\n",
              "      <td>1987</td>\n",
              "      <td>Tier 3</td>\n",
              "      <td>Supermarket Type1</td>\n",
              "      <td>994.7052</td>\n",
              "    </tr>\n",
              "  </tbody>\n",
              "</table>\n",
              "</div>\n",
              "      <button class=\"colab-df-convert\" onclick=\"convertToInteractive('df-f366bd84-a5f3-43ff-bd6c-d9302335a933')\"\n",
              "              title=\"Convert this dataframe to an interactive table.\"\n",
              "              style=\"display:none;\">\n",
              "        \n",
              "  <svg xmlns=\"http://www.w3.org/2000/svg\" height=\"24px\"viewBox=\"0 0 24 24\"\n",
              "       width=\"24px\">\n",
              "    <path d=\"M0 0h24v24H0V0z\" fill=\"none\"/>\n",
              "    <path d=\"M18.56 5.44l.94 2.06.94-2.06 2.06-.94-2.06-.94-.94-2.06-.94 2.06-2.06.94zm-11 1L8.5 8.5l.94-2.06 2.06-.94-2.06-.94L8.5 2.5l-.94 2.06-2.06.94zm10 10l.94 2.06.94-2.06 2.06-.94-2.06-.94-.94-2.06-.94 2.06-2.06.94z\"/><path d=\"M17.41 7.96l-1.37-1.37c-.4-.4-.92-.59-1.43-.59-.52 0-1.04.2-1.43.59L10.3 9.45l-7.72 7.72c-.78.78-.78 2.05 0 2.83L4 21.41c.39.39.9.59 1.41.59.51 0 1.02-.2 1.41-.59l7.78-7.78 2.81-2.81c.8-.78.8-2.07 0-2.86zM5.41 20L4 18.59l7.72-7.72 1.47 1.35L5.41 20z\"/>\n",
              "  </svg>\n",
              "      </button>\n",
              "      \n",
              "  <style>\n",
              "    .colab-df-container {\n",
              "      display:flex;\n",
              "      flex-wrap:wrap;\n",
              "      gap: 12px;\n",
              "    }\n",
              "\n",
              "    .colab-df-convert {\n",
              "      background-color: #E8F0FE;\n",
              "      border: none;\n",
              "      border-radius: 50%;\n",
              "      cursor: pointer;\n",
              "      display: none;\n",
              "      fill: #1967D2;\n",
              "      height: 32px;\n",
              "      padding: 0 0 0 0;\n",
              "      width: 32px;\n",
              "    }\n",
              "\n",
              "    .colab-df-convert:hover {\n",
              "      background-color: #E2EBFA;\n",
              "      box-shadow: 0px 1px 2px rgba(60, 64, 67, 0.3), 0px 1px 3px 1px rgba(60, 64, 67, 0.15);\n",
              "      fill: #174EA6;\n",
              "    }\n",
              "\n",
              "    [theme=dark] .colab-df-convert {\n",
              "      background-color: #3B4455;\n",
              "      fill: #D2E3FC;\n",
              "    }\n",
              "\n",
              "    [theme=dark] .colab-df-convert:hover {\n",
              "      background-color: #434B5C;\n",
              "      box-shadow: 0px 1px 3px 1px rgba(0, 0, 0, 0.15);\n",
              "      filter: drop-shadow(0px 1px 2px rgba(0, 0, 0, 0.3));\n",
              "      fill: #FFFFFF;\n",
              "    }\n",
              "  </style>\n",
              "\n",
              "      <script>\n",
              "        const buttonEl =\n",
              "          document.querySelector('#df-f366bd84-a5f3-43ff-bd6c-d9302335a933 button.colab-df-convert');\n",
              "        buttonEl.style.display =\n",
              "          google.colab.kernel.accessAllowed ? 'block' : 'none';\n",
              "\n",
              "        async function convertToInteractive(key) {\n",
              "          const element = document.querySelector('#df-f366bd84-a5f3-43ff-bd6c-d9302335a933');\n",
              "          const dataTable =\n",
              "            await google.colab.kernel.invokeFunction('convertToInteractive',\n",
              "                                                     [key], {});\n",
              "          if (!dataTable) return;\n",
              "\n",
              "          const docLinkHtml = 'Like what you see? Visit the ' +\n",
              "            '<a target=\"_blank\" href=https://colab.research.google.com/notebooks/data_table.ipynb>data table notebook</a>'\n",
              "            + ' to learn more about interactive tables.';\n",
              "          element.innerHTML = '';\n",
              "          dataTable['output_type'] = 'display_data';\n",
              "          await google.colab.output.renderOutput(dataTable, element);\n",
              "          const docLink = document.createElement('div');\n",
              "          docLink.innerHTML = docLinkHtml;\n",
              "          element.appendChild(docLink);\n",
              "        }\n",
              "      </script>\n",
              "    </div>\n",
              "  </div>\n",
              "  "
            ]
          },
          "metadata": {},
          "execution_count": 79
        }
      ]
    },
    {
      "cell_type": "code",
      "source": [
        "min = sales_predictions.min()\n",
        "min"
      ],
      "metadata": {
        "id": "sS2J3pREAZug",
        "outputId": "c8be4721-62f7-467a-b4b8-3242001ebdac",
        "colab": {
          "base_uri": "https://localhost:8080/"
        }
      },
      "execution_count": 80,
      "outputs": [
        {
          "output_type": "execute_result",
          "data": {
            "text/plain": [
              "Item_Identifier                      DRA12\n",
              "Item_Weight                          4.555\n",
              "Item_Fat_Content                   Low Fat\n",
              "Item_Visibility                        0.0\n",
              "Item_Type                     Baking Goods\n",
              "Item_MRP                             31.29\n",
              "Outlet_Identifier                   OUT010\n",
              "Outlet_Establishment_Year             1985\n",
              "Outlet_Location_Type                Tier 1\n",
              "Outlet_Type                  Grocery Store\n",
              "Item_Outlet_Sales                    33.29\n",
              "dtype: object"
            ]
          },
          "metadata": {},
          "execution_count": 80
        }
      ]
    },
    {
      "cell_type": "code",
      "source": [
        "max = sales_predictions.max()\n",
        "max"
      ],
      "metadata": {
        "id": "w1hZk4HCDSkR",
        "outputId": "b8b60b23-1b7f-45c3-d6ae-6142f771f162",
        "colab": {
          "base_uri": "https://localhost:8080/"
        }
      },
      "execution_count": 81,
      "outputs": [
        {
          "output_type": "execute_result",
          "data": {
            "text/plain": [
              "Item_Identifier                          NCZ54\n",
              "Item_Weight                              21.35\n",
              "Item_Fat_Content                       Regular\n",
              "Item_Visibility                       0.328391\n",
              "Item_Type                        Starchy Foods\n",
              "Item_MRP                              266.8884\n",
              "Outlet_Identifier                       OUT049\n",
              "Outlet_Establishment_Year                 2009\n",
              "Outlet_Location_Type                    Tier 3\n",
              "Outlet_Type                  Supermarket Type3\n",
              "Item_Outlet_Sales                   13086.9648\n",
              "dtype: object"
            ]
          },
          "metadata": {},
          "execution_count": 81
        }
      ]
    },
    {
      "cell_type": "code",
      "source": [
        "mean = sales_predictions.mean()\n",
        "mean"
      ],
      "metadata": {
        "id": "Hg4TVWbcDRUF",
        "outputId": "efb1d952-3ece-4c29-ecd7-f347b3884aa5",
        "colab": {
          "base_uri": "https://localhost:8080/"
        }
      },
      "execution_count": 82,
      "outputs": [
        {
          "output_type": "stream",
          "name": "stderr",
          "text": [
            "/usr/local/lib/python3.7/dist-packages/ipykernel_launcher.py:1: FutureWarning: Dropping of nuisance columns in DataFrame reductions (with 'numeric_only=None') is deprecated; in a future version this will raise TypeError.  Select only valid columns before calling the reduction.\n",
            "  \"\"\"Entry point for launching an IPython kernel.\n"
          ]
        },
        {
          "output_type": "execute_result",
          "data": {
            "text/plain": [
              "Item_Weight                    12.857645\n",
              "Item_Visibility                 0.066132\n",
              "Item_MRP                      140.992782\n",
              "Outlet_Establishment_Year    1997.831867\n",
              "Item_Outlet_Sales            2181.288914\n",
              "dtype: float64"
            ]
          },
          "metadata": {},
          "execution_count": 82
        }
      ]
    },
    {
      "cell_type": "markdown",
      "source": [
        "- Only need the data for numerical columns of Item_Weight, Item_Visibility, Item_MRP, and Item_Outlet_Sales. The other numbers are not values and categorical."
      ],
      "metadata": {
        "id": "DwgtqLkxC-yX"
      }
    },
    {
      "cell_type": "markdown",
      "source": [
        "##Exploratory Visuals"
      ],
      "metadata": {
        "id": "4jOrAOcklWFn"
      }
    },
    {
      "cell_type": "markdown",
      "source": [
        "Histograms"
      ],
      "metadata": {
        "id": "YQID6Wj6bF1m"
      }
    },
    {
      "cell_type": "code",
      "source": [
        "import matplotlib.pyplot as plt"
      ],
      "metadata": {
        "id": "BdfugW6kjU1v"
      },
      "execution_count": 83,
      "outputs": []
    },
    {
      "cell_type": "code",
      "source": [
        "sales_predictions['Item_Weight'].hist(bins=10)\n",
        "plt.xlabel('Item Weight')\n",
        "plt.ylabel('Count')\n",
        "plt.title('Item Weight Distribution');\n",
        "plt.show()\n",
        "print('Most items sold are between the weight of around 11 to 12.6 units. \\nThe lightest item sold is around 4.8 and the heaviest is around 21.')"
      ],
      "metadata": {
        "id": "dxqrmemzbG7J",
        "outputId": "e793d688-6bd7-4c10-e6b4-2ee1e08677a5",
        "colab": {
          "base_uri": "https://localhost:8080/",
          "height": 330
        }
      },
      "execution_count": 84,
      "outputs": [
        {
          "output_type": "display_data",
          "data": {
            "text/plain": [
              "<Figure size 432x288 with 1 Axes>"
            ],
            "image/png": "[encoded data removed]"
          },
          "metadata": {
            "needs_background": "light"
          }
        },
        {
          "output_type": "stream",
          "name": "stdout",
          "text": [
            "Most items sold are between the weight of around 11 to 12.6 units. \n",
            "The lightest item sold is around 4.8 and the heaviest is around 21.\n"
          ]
        }
      ]
    },
    {
      "cell_type": "code",
      "source": [
        "sales_predictions['Item_Visibility'].hist(bins='auto')\n",
        "plt.xlabel('Item Visibility')\n",
        "plt.ylabel('Count')\n",
        "plt.title('Visibility Distribution of Sold Items');\n",
        "plt.show()\n",
        "print('The items with the least visibility percentage have a much higher sale rate, \\nwhereas the items with higher visibility have almost to none sold.')"
      ],
      "metadata": {
        "id": "8KKzJXgojDvA",
        "outputId": "98592ad6-fd1e-41cc-f6b9-ce48b53e8f83",
        "colab": {
          "base_uri": "https://localhost:8080/",
          "height": 330
        }
      },
      "execution_count": 85,
      "outputs": [
        {
          "output_type": "display_data",
          "data": {
            "text/plain": [
              "<Figure size 432x288 with 1 Axes>"
            ],
            "image/png": "[encoded data removed]"
          },
          "metadata": {
            "needs_background": "light"
          }
        },
        {
          "output_type": "stream",
          "name": "stdout",
          "text": [
            "The items with the least visibility percentage have a much higher sale rate, \n",
            "whereas the items with higher visibility have almost to none sold.\n"
          ]
        }
      ]
    },
    {
      "cell_type": "markdown",
      "source": [
        "Boxplots"
      ],
      "metadata": {
        "id": "gSvTiZnIWNRk"
      }
    },
    {
      "cell_type": "code",
      "source": [
        "sales_predictions.boxplot(['Item_Weight'],\n",
        "                          by = 'Item_Type',\n",
        "                          figsize = (15,5),\n",
        "                          rot = 90,\n",
        "                          grid = False);\n",
        "plt.show()\n",
        "print('Most of the item types sold seem to have similar max weights, as well as their median. \\nHard drinks seems to be an outlying item with a much lower median.')"
      ],
      "metadata": {
        "colab": {
          "base_uri": "https://localhost:8080/",
          "height": 539
        },
        "id": "pSA4iXomX7mX",
        "outputId": "668f728d-d1c4-4dd5-d4bd-d1b62dc4d08c"
      },
      "execution_count": 86,
      "outputs": [
        {
          "output_type": "stream",
          "name": "stderr",
          "text": [
            "/usr/local/lib/python3.7/dist-packages/matplotlib/cbook/__init__.py:1376: VisibleDeprecationWarning: Creating an ndarray from ragged nested sequences (which is a list-or-tuple of lists-or-tuples-or ndarrays with different lengths or shapes) is deprecated. If you meant to do this, you must specify 'dtype=object' when creating the ndarray.\n",
            "  X = np.atleast_1d(X.T if isinstance(X, np.ndarray) else np.asarray(X))\n"
          ]
        },
        {
          "output_type": "display_data",
          "data": {
            "text/plain": [
              "<Figure size 1080x360 with 1 Axes>"
            ],
            "image/png": "[encoded data removed]"
          },
          "metadata": {
            "needs_background": "light"
          }
        },
        {
          "output_type": "stream",
          "name": "stdout",
          "text": [
            "Most of the item types sold seem to have similar max weights, as well as their median. \n",
            "Hard drinks seems to be an outlying item with a much lower median.\n"
          ]
        }
      ]
    },
    {
      "cell_type": "code",
      "source": [
        "sales_predictions.boxplot(['Item_MRP'],\n",
        "                          by = 'Item_Type',\n",
        "                          figsize = (15,8),\n",
        "                          rot = 90,\n",
        "                          grid = False);\n",
        "plt.show()\n",
        "print('Most of the varying item types have similar minimum MRPs, but have differing maximum MRPs. \\nBreakfast items has the lowest maximum value.')"
      ],
      "metadata": {
        "colab": {
          "base_uri": "https://localhost:8080/",
          "height": 717
        },
        "id": "D7ZC2MBGsqro",
        "outputId": "695df942-70a1-45ee-ac70-b7ddf6ee832b"
      },
      "execution_count": 87,
      "outputs": [
        {
          "output_type": "stream",
          "name": "stderr",
          "text": [
            "/usr/local/lib/python3.7/dist-packages/matplotlib/cbook/__init__.py:1376: VisibleDeprecationWarning: Creating an ndarray from ragged nested sequences (which is a list-or-tuple of lists-or-tuples-or ndarrays with different lengths or shapes) is deprecated. If you meant to do this, you must specify 'dtype=object' when creating the ndarray.\n",
            "  X = np.atleast_1d(X.T if isinstance(X, np.ndarray) else np.asarray(X))\n"
          ]
        },
        {
          "output_type": "display_data",
          "data": {
            "text/plain": [
              "<Figure size 1080x576 with 1 Axes>"
            ],
            "image/png": "[encoded data removed]"
          },
          "metadata": {
            "needs_background": "light"
          }
        },
        {
          "output_type": "stream",
          "name": "stdout",
          "text": [
            "Most of the varying item types have similar minimum MRPs, but have differing maximum MRPs. \n",
            "Breakfast items has the lowest maximum value.\n"
          ]
        }
      ]
    },
    {
      "cell_type": "code",
      "source": [
        "sales_predictions.boxplot(['Item_Outlet_Sales'],\n",
        "                          by = 'Item_Type',\n",
        "                          figsize = (15,5),\n",
        "                          rot = 90,\n",
        "                          grid = False);\n",
        "plt.show()\n",
        "print('All item types except seafood seem to have many outliers exceeding the maximum according to the boxplots plotted below. \\nHousehold items has had the highest sale.')"
      ],
      "metadata": {
        "colab": {
          "base_uri": "https://localhost:8080/",
          "height": 534
        },
        "id": "JdxSHqnHswuP",
        "outputId": "f8b88ea3-2559-42df-99d7-a00a61046de9"
      },
      "execution_count": 88,
      "outputs": [
        {
          "output_type": "stream",
          "name": "stderr",
          "text": [
            "/usr/local/lib/python3.7/dist-packages/matplotlib/cbook/__init__.py:1376: VisibleDeprecationWarning: Creating an ndarray from ragged nested sequences (which is a list-or-tuple of lists-or-tuples-or ndarrays with different lengths or shapes) is deprecated. If you meant to do this, you must specify 'dtype=object' when creating the ndarray.\n",
            "  X = np.atleast_1d(X.T if isinstance(X, np.ndarray) else np.asarray(X))\n"
          ]
        },
        {
          "output_type": "display_data",
          "data": {
            "text/plain": [
              "<Figure size 1080x360 with 1 Axes>"
            ],
            "image/png": "[encoded data removed]"
          },
          "metadata": {
            "needs_background": "light"
          }
        },
        {
          "output_type": "stream",
          "name": "stdout",
          "text": [
            "All item types except seafood seem to have many outliers exceeding the maximum according to the boxplots plotted below. \n",
            "Household items has had the highest sale.\n"
          ]
        }
      ]
    },
    {
      "cell_type": "markdown",
      "source": [
        "Heatmaps"
      ],
      "metadata": {
        "id": "jnjYHCTFtEpt"
      }
    },
    {
      "cell_type": "code",
      "source": [
        "corr = sales_predictions.corr()"
      ],
      "metadata": {
        "id": "3jWegzh4tQuf"
      },
      "execution_count": 89,
      "outputs": []
    },
    {
      "cell_type": "code",
      "source": [
        "import seaborn as sns\n",
        "sns.heatmap(corr, cmap = 'Reds', annot = True);\n",
        "plt.show()\n",
        "print('The only relationship with a positive strong correlation is that between item outlet sales and item MRP. \\nWith a higher MRP the item outlet sales goes up as well. No other relationship seems to have a strong enough correlation to take note of.')"
      ],
      "metadata": {
        "colab": {
          "base_uri": "https://localhost:8080/",
          "height": 447
        },
        "id": "5YO2RvojuVzx",
        "outputId": "63a7d058-8e5f-4033-937e-59e91b4ada61"
      },
      "execution_count": 90,
      "outputs": [
        {
          "output_type": "display_data",
          "data": {
            "text/plain": [
              "<Figure size 432x288 with 2 Axes>"
            ],
            "image/png": "[encoded data removed]"
          },
          "metadata": {
            "needs_background": "light"
          }
        },
        {
          "output_type": "stream",
          "name": "stdout",
          "text": [
            "The only relationship with a positive strong correlation is that between item outlet sales and item MRP. \n",
            "With a higher MRP the item outlet sales goes up as well. No other relationship seems to have a strong enough correlation to take note of.\n"
          ]
        }
      ]
    },
    {
      "cell_type": "markdown",
      "source": [
        "## Explanatory Visuals"
      ],
      "metadata": {
        "id": "EbEBJ3cKlYxy"
      }
    },
    {
      "cell_type": "code",
      "source": [
        "location_sales = sales_predictions.groupby('Outlet_Location_Type')['Item_Outlet_Sales'].mean()\n",
        "location_sales"
      ],
      "metadata": {
        "colab": {
          "base_uri": "https://localhost:8080/"
        },
        "id": "km2fOhOixG0h",
        "outputId": "aa07ac5a-1f0f-4a72-fc09-7eebb4d56e5c"
      },
      "execution_count": 92,
      "outputs": [
        {
          "output_type": "execute_result",
          "data": {
            "text/plain": [
              "Outlet_Location_Type\n",
              "Tier 1    1876.909159\n",
              "Tier 2    2323.990559\n",
              "Tier 3    2279.627651\n",
              "Name: Item_Outlet_Sales, dtype: float64"
            ]
          },
          "metadata": {},
          "execution_count": 92
        }
      ]
    },
    {
      "cell_type": "code",
      "source": [
        "plt.bar(location_sales.index, location_sales.values)\n",
        "plt.ylabel('Outlet Tier')\n",
        "plt.xlabel('Outlet Sales')\n",
        "plt.title('Sales Distribution over Different Tiers');\n",
        "plt.show()\n",
        "print('Overall, the outlets that made mose sales are the ones in Tier 2 and 3 \\nwith Tier 1 making the least amount of sales.')"
      ],
      "metadata": {
        "colab": {
          "base_uri": "https://localhost:8080/",
          "height": 330
        },
        "id": "_Bgrj8dxzgrH",
        "outputId": "d8c0ed59-fcc4-41da-8deb-3c84d480f1ab"
      },
      "execution_count": 98,
      "outputs": [
        {
          "output_type": "display_data",
          "data": {
            "text/plain": [
              "<Figure size 432x288 with 1 Axes>"
            ],
            "image/png": "[encoded data removed]"
          },
          "metadata": {
            "needs_background": "light"
          }
        },
        {
          "output_type": "stream",
          "name": "stdout",
          "text": [
            "Overall, the outlets that made mose sales are the ones in Tier 2 and 3 \n",
            "with Tier 1 making the least amount of sales.\n"
          ]
        }
      ]
    },
    {
      "cell_type": "code",
      "source": [
        "fig, ax = plt.subplots(figsize=(10,5))\n",
        "sns.histplot(data = sales_predictions, x = 'Item_MRP', y = 'Item_Outlet_Sales')\n",
        "ax.set(title='Outlet Sale Distribution of Product over Item MRP', xlabel='Item MRP', ylabel='Outlet Sales');\n",
        "plt.show()\n",
        "print('With a higher maximum retail price, the product seems to be more likely to have a higher sale rate.')"
      ],
      "metadata": {
        "colab": {
          "base_uri": "https://localhost:8080/",
          "height": 367
        },
        "id": "fcEM9v071rYm",
        "outputId": "d6ca0c08-9435-4db2-e2d0-1be53ea6991a"
      },
      "execution_count": 109,
      "outputs": [
        {
          "output_type": "display_data",
          "data": {
            "text/plain": [
              "<Figure size 720x360 with 1 Axes>"
            ],
            "image/png": "[encoded data removed]"
          },
          "metadata": {
            "needs_background": "light"
          }
        },
        {
          "output_type": "stream",
          "name": "stdout",
          "text": [
            "With a higher maximum retail price, the product seems to be more likely to have a higher sale rate.\n"
          ]
        }
      ]
    },
    {
      "cell_type": "code",
      "source": [
        "itemtypesale = sales_predictions.groupby(['Item_Type','Outlet_Location_Type']).mean().reset_index()\n",
        "itemtypesale.head()"
      ],
      "metadata": {
        "colab": {
          "base_uri": "https://localhost:8080/",
          "height": 322
        },
        "id": "dh_GCFsA6fNM",
        "outputId": "bed6161c-8997-462b-c272-e716789dc6a0"
      },
      "execution_count": 112,
      "outputs": [
        {
          "output_type": "execute_result",
          "data": {
            "text/plain": [
              "      Item_Type  \\\n",
              "0  Baking Goods   \n",
              "1  Baking Goods   \n",
              "2  Baking Goods   \n",
              "3        Breads   \n",
              "4        Breads   \n",
              "\n",
              "  Outlet_Location_Type  \\\n",
              "0               Tier 1   \n",
              "1               Tier 2   \n",
              "2               Tier 3   \n",
              "3               Tier 1   \n",
              "4               Tier 2   \n",
              "\n",
              "   Item_Weight  \\\n",
              "0    12.354480   \n",
              "1    12.438460   \n",
              "2    12.343224   \n",
              "3    11.362050   \n",
              "4    11.248869   \n",
              "\n",
              "   Item_Visibility  \\\n",
              "0         0.072284   \n",
              "1         0.063576   \n",
              "2         0.071565   \n",
              "3         0.069338   \n",
              "4         0.063174   \n",
              "\n",
              "     Item_MRP  \\\n",
              "0  124.389121   \n",
              "1  126.258343   \n",
              "2  127.945391   \n",
              "3  146.045788   \n",
              "4  137.639740   \n",
              "\n",
              "   Outlet_Establishment_Year  \\\n",
              "0                1994.924324   \n",
              "1                2004.374408   \n",
              "2                1994.222222   \n",
              "3                1994.880597   \n",
              "4                2004.000000   \n",
              "\n",
              "   Item_Outlet_Sales  \n",
              "0        1766.342208  \n",
              "1        2052.633001  \n",
              "2        2006.533613  \n",
              "3        2049.382087  \n",
              "4        2275.347721  "
            ],
            "text/html": [
              "\n",
              "  <div id=\"df-d9092ddb-045d-4e64-9b9f-ea39954966be\">\n",
              "    <div class=\"colab-df-container\">\n",
              "      <div>\n",
              "<style scoped>\n",
              "    .dataframe tbody tr th:only-of-type {\n",
              "        vertical-align: middle;\n",
              "    }\n",
              "\n",
              "    .dataframe tbody tr th {\n",
              "        vertical-align: top;\n",
              "    }\n",
              "\n",
              "    .dataframe thead th {\n",
              "        text-align: right;\n",
              "    }\n",
              "</style>\n",
              "<table border=\"1\" class=\"dataframe\">\n",
              "  <thead>\n",
              "    <tr style=\"text-align: right;\">\n",
              "      <th></th>\n",
              "      <th>Item_Type</th>\n",
              "      <th>Outlet_Location_Type</th>\n",
              "      <th>Item_Weight</th>\n",
              "      <th>Item_Visibility</th>\n",
              "      <th>Item_MRP</th>\n",
              "      <th>Outlet_Establishment_Year</th>\n",
              "      <th>Item_Outlet_Sales</th>\n",
              "    </tr>\n",
              "  </thead>\n",
              "  <tbody>\n",
              "    <tr>\n",
              "      <th>0</th>\n",
              "      <td>Baking Goods</td>\n",
              "      <td>Tier 1</td>\n",
              "      <td>12.354480</td>\n",
              "      <td>0.072284</td>\n",
              "      <td>124.389121</td>\n",
              "      <td>1994.924324</td>\n",
              "      <td>1766.342208</td>\n",
              "    </tr>\n",
              "    <tr>\n",
              "      <th>1</th>\n",
              "      <td>Baking Goods</td>\n",
              "      <td>Tier 2</td>\n",
              "      <td>12.438460</td>\n",
              "      <td>0.063576</td>\n",
              "      <td>126.258343</td>\n",
              "      <td>2004.374408</td>\n",
              "      <td>2052.633001</td>\n",
              "    </tr>\n",
              "    <tr>\n",
              "      <th>2</th>\n",
              "      <td>Baking Goods</td>\n",
              "      <td>Tier 3</td>\n",
              "      <td>12.343224</td>\n",
              "      <td>0.071565</td>\n",
              "      <td>127.945391</td>\n",
              "      <td>1994.222222</td>\n",
              "      <td>2006.533613</td>\n",
              "    </tr>\n",
              "    <tr>\n",
              "      <th>3</th>\n",
              "      <td>Breads</td>\n",
              "      <td>Tier 1</td>\n",
              "      <td>11.362050</td>\n",
              "      <td>0.069338</td>\n",
              "      <td>146.045788</td>\n",
              "      <td>1994.880597</td>\n",
              "      <td>2049.382087</td>\n",
              "    </tr>\n",
              "    <tr>\n",
              "      <th>4</th>\n",
              "      <td>Breads</td>\n",
              "      <td>Tier 2</td>\n",
              "      <td>11.248869</td>\n",
              "      <td>0.063174</td>\n",
              "      <td>137.639740</td>\n",
              "      <td>2004.000000</td>\n",
              "      <td>2275.347721</td>\n",
              "    </tr>\n",
              "  </tbody>\n",
              "</table>\n",
              "</div>\n",
              "      <button class=\"colab-df-convert\" onclick=\"convertToInteractive('df-d9092ddb-045d-4e64-9b9f-ea39954966be')\"\n",
              "              title=\"Convert this dataframe to an interactive table.\"\n",
              "              style=\"display:none;\">\n",
              "        \n",
              "  <svg xmlns=\"http://www.w3.org/2000/svg\" height=\"24px\"viewBox=\"0 0 24 24\"\n",
              "       width=\"24px\">\n",
              "    <path d=\"M0 0h24v24H0V0z\" fill=\"none\"/>\n",
              "    <path d=\"M18.56 5.44l.94 2.06.94-2.06 2.06-.94-2.06-.94-.94-2.06-.94 2.06-2.06.94zm-11 1L8.5 8.5l.94-2.06 2.06-.94-2.06-.94L8.5 2.5l-.94 2.06-2.06.94zm10 10l.94 2.06.94-2.06 2.06-.94-2.06-.94-.94-2.06-.94 2.06-2.06.94z\"/><path d=\"M17.41 7.96l-1.37-1.37c-.4-.4-.92-.59-1.43-.59-.52 0-1.04.2-1.43.59L10.3 9.45l-7.72 7.72c-.78.78-.78 2.05 0 2.83L4 21.41c.39.39.9.59 1.41.59.51 0 1.02-.2 1.41-.59l7.78-7.78 2.81-2.81c.8-.78.8-2.07 0-2.86zM5.41 20L4 18.59l7.72-7.72 1.47 1.35L5.41 20z\"/>\n",
              "  </svg>\n",
              "      </button>\n",
              "      \n",
              "  <style>\n",
              "    .colab-df-container {\n",
              "      display:flex;\n",
              "      flex-wrap:wrap;\n",
              "      gap: 12px;\n",
              "    }\n",
              "\n",
              "    .colab-df-convert {\n",
              "      background-color: #E8F0FE;\n",
              "      border: none;\n",
              "      border-radius: 50%;\n",
              "      cursor: pointer;\n",
              "      display: none;\n",
              "      fill: #1967D2;\n",
              "      height: 32px;\n",
              "      padding: 0 0 0 0;\n",
              "      width: 32px;\n",
              "    }\n",
              "\n",
              "    .colab-df-convert:hover {\n",
              "      background-color: #E2EBFA;\n",
              "      box-shadow: 0px 1px 2px rgba(60, 64, 67, 0.3), 0px 1px 3px 1px rgba(60, 64, 67, 0.15);\n",
              "      fill: #174EA6;\n",
              "    }\n",
              "\n",
              "    [theme=dark] .colab-df-convert {\n",
              "      background-color: #3B4455;\n",
              "      fill: #D2E3FC;\n",
              "    }\n",
              "\n",
              "    [theme=dark] .colab-df-convert:hover {\n",
              "      background-color: #434B5C;\n",
              "      box-shadow: 0px 1px 3px 1px rgba(0, 0, 0, 0.15);\n",
              "      filter: drop-shadow(0px 1px 2px rgba(0, 0, 0, 0.3));\n",
              "      fill: #FFFFFF;\n",
              "    }\n",
              "  </style>\n",
              "\n",
              "      <script>\n",
              "        const buttonEl =\n",
              "          document.querySelector('#df-d9092ddb-045d-4e64-9b9f-ea39954966be button.colab-df-convert');\n",
              "        buttonEl.style.display =\n",
              "          google.colab.kernel.accessAllowed ? 'block' : 'none';\n",
              "\n",
              "        async function convertToInteractive(key) {\n",
              "          const element = document.querySelector('#df-d9092ddb-045d-4e64-9b9f-ea39954966be');\n",
              "          const dataTable =\n",
              "            await google.colab.kernel.invokeFunction('convertToInteractive',\n",
              "                                                     [key], {});\n",
              "          if (!dataTable) return;\n",
              "\n",
              "          const docLinkHtml = 'Like what you see? Visit the ' +\n",
              "            '<a target=\"_blank\" href=https://colab.research.google.com/notebooks/data_table.ipynb>data table notebook</a>'\n",
              "            + ' to learn more about interactive tables.';\n",
              "          element.innerHTML = '';\n",
              "          dataTable['output_type'] = 'display_data';\n",
              "          await google.colab.output.renderOutput(dataTable, element);\n",
              "          const docLink = document.createElement('div');\n",
              "          docLink.innerHTML = docLinkHtml;\n",
              "          element.appendChild(docLink);\n",
              "        }\n",
              "      </script>\n",
              "    </div>\n",
              "  </div>\n",
              "  "
            ]
          },
          "metadata": {},
          "execution_count": 112
        }
      ]
    },
    {
      "cell_type": "code",
      "source": [
        "fig, ax = plt.subplots(figsize=(12,6))\n",
        "sns.barplot(data = itemtypesale, x = 'Item_Outlet_Sales', y = 'Item_Type', hue = 'Outlet_Location_Type')\n",
        "ax.set(title='Outlet Sale Distribution of Product Types', xlabel='Item_Outlet_Sales', ylabel='Product Type')\n",
        "plt.legend(loc=(1.02,0));\n",
        "plt.show()\n",
        "print('Based solely on the distribution of tier 1 outlet product sales, breakfast products had the least amount of sales with starchy foods having the most. \\nHowever, tier 2 and 3 breakfast items had one of the highest amount of sales.')"
      ],
      "metadata": {
        "colab": {
          "base_uri": "https://localhost:8080/",
          "height": 458
        },
        "id": "BgcTGJOh7IJf",
        "outputId": "584f4045-d018-40a6-8817-9c7ee682a3c5"
      },
      "execution_count": 120,
      "outputs": [
        {
          "output_type": "display_data",
          "data": {
            "text/plain": [
              "<Figure size 864x432 with 1 Axes>"
            ],
            "image/png": "[encoded data removed]"
          },
          "metadata": {
            "needs_background": "light"
          }
        },
        {
          "output_type": "stream",
          "name": "stdout",
          "text": [
            "Based solely on the distribution of tier 1 outlet product sales, breakfast products had the least amount of sales with starchy foods having the most. \n",
            "However, tier 2 and 3 breakfast items had one of the highest amount of sales.\n"
          ]
        }
      ]
    }
  ]
}